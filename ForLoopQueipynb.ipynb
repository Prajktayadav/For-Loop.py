{
  "nbformat": 4,
  "nbformat_minor": 0,
  "metadata": {
    "colab": {
      "provenance": []
    },
    "kernelspec": {
      "name": "python3",
      "display_name": "Python 3"
    },
    "language_info": {
      "name": "python"
    }
  },
  "cells": [
    {
      "cell_type": "code",
      "execution_count": null,
      "metadata": {
        "id": "2gdZfSsGNAsc"
      },
      "outputs": [],
      "source": [
        "#BASIC LEVEL"
      ]
    },
    {
      "cell_type": "code",
      "source": [
        "#1. Write a Python program to print the numbers from 1 to 10 using a `for` loop.\n",
        "print('Numbers from 1 to 10:')\n",
        "for i in range(1, 11):\n",
        "   print(i, end=' ')\n"
      ],
      "metadata": {
        "colab": {
          "base_uri": "https://localhost:8080/"
        },
        "id": "fcNSjQ-qPXRv",
        "outputId": "69767023-546d-4149-d2fb-799b1a46737d"
      },
      "execution_count": null,
      "outputs": [
        {
          "output_type": "stream",
          "name": "stdout",
          "text": [
            "Numbers from 1 to 10:\n",
            "1 2 3 4 5 6 7 8 9 10 "
          ]
        }
      ]
    },
    {
      "cell_type": "code",
      "source": [
        "#2. Create a program that calculates the sum of all numbers in a list using a `for` loop.\n",
        "\n",
        "List = [1, 2, 3, 4, 5, 6, 7, 8, 9]\n",
        "list_length=len(List)\n",
        "sumOfElements=0\n",
        "for i in range(list_length):\n",
        "    sumOfElements=sumOfElements+List[i]\n",
        "\n",
        "print(\"Sum of all the elements in the list is:\", sumOfElements)\n"
      ],
      "metadata": {
        "colab": {
          "base_uri": "https://localhost:8080/"
        },
        "id": "vTamjeS2QgYX",
        "outputId": "c09eff8d-2721-45ef-8d93-3e9da188a8de"
      },
      "execution_count": null,
      "outputs": [
        {
          "output_type": "stream",
          "name": "stdout",
          "text": [
            "Sum of all the elements in the list is: 45\n"
          ]
        }
      ]
    },
    {
      "cell_type": "code",
      "source": [
        "#3. Write a program to print the characters of a string in reverse order using a `for` loop.\n",
        "def reverse(s):\n",
        "    str = \"\"\n",
        "    for i in s:\n",
        "        str = i + str\n",
        "    return str\n",
        "\n",
        "s = \"OmkarPrajkta\"\n",
        "print(\"The reversed string(using loops) is : \", end=\"\")\n",
        "print(reverse(s))"
      ],
      "metadata": {
        "colab": {
          "base_uri": "https://localhost:8080/"
        },
        "id": "Y_ejjTcXVphe",
        "outputId": "32cfe3ef-7a32-478a-ee3d-1612129992e1"
      },
      "execution_count": 4,
      "outputs": [
        {
          "output_type": "stream",
          "name": "stdout",
          "text": [
            "The reversed string(using loops) is : atkjarPrakmO\n"
          ]
        }
      ]
    },
    {
      "cell_type": "code",
      "source": [
        "#4. Develop a program that finds the factorial of a given number using a `for` loop.\n",
        "def factorial(n):\n",
        "    return 1 if (n==1 or n==0) else n * factorial(n - 1)\n",
        "num = 6\n",
        "print(\"Factorial of\",num,\"is\",factorial(num))"
      ],
      "metadata": {
        "id": "TZeg7dKjXD5M",
        "colab": {
          "base_uri": "https://localhost:8080/"
        },
        "outputId": "38c5e898-8aa6-4932-f6be-064dcecb489a"
      },
      "execution_count": 6,
      "outputs": [
        {
          "output_type": "stream",
          "name": "stdout",
          "text": [
            "Factorial of 6 is 720\n"
          ]
        }
      ]
    },
    {
      "cell_type": "code",
      "source": [
        "#5. Create a program to print the multiplication table of a given number using a `for` loop.\n",
        "\n",
        "\n",
        "n = int(input(\"Enter any Number  :\"));\n",
        "\n",
        "for i in range(1,11):\n",
        " value = n * i\n",
        " print(n,\" * \",i,\" = \",value)"
      ],
      "metadata": {
        "colab": {
          "base_uri": "https://localhost:8080/"
        },
        "id": "zXXtw8-r1ymZ",
        "outputId": "b4b293ea-16e6-4a86-a593-459c7cbeb558"
      },
      "execution_count": 10,
      "outputs": [
        {
          "output_type": "stream",
          "name": "stdout",
          "text": [
            "Enter any Number  :5\n",
            "5  *  1  =  5\n",
            "5  *  2  =  10\n",
            "5  *  3  =  15\n",
            "5  *  4  =  20\n",
            "5  *  5  =  25\n",
            "5  *  6  =  30\n",
            "5  *  7  =  35\n",
            "5  *  8  =  40\n",
            "5  *  9  =  45\n",
            "5  *  10  =  50\n"
          ]
        }
      ]
    },
    {
      "cell_type": "code",
      "source": [
        "#6. Write a program that counts the number of even and odd numbers in a list using a `for` loop.\n",
        "\n",
        "\n",
        "\n",
        "list1 = [9,5,6,16,14,89,60]\n",
        "for num in list1:\n",
        "    if num % 2 == 0:\n",
        "        even_count += 1\n",
        "\n",
        "    else:\n",
        "        odd_count += 1\n",
        "\n",
        "print(\"Even numbers in the list: \", even_count)\n",
        "print(\"Odd numbers in the list: \", odd_count)"
      ],
      "metadata": {
        "colab": {
          "base_uri": "https://localhost:8080/"
        },
        "id": "kmRnmITq3XyM",
        "outputId": "dba19391-1633-4c5d-a673-ee450b332bd6"
      },
      "execution_count": 14,
      "outputs": [
        {
          "output_type": "stream",
          "name": "stdout",
          "text": [
            "Even numbers in the list:  12\n",
            "Odd numbers in the list:  9\n"
          ]
        }
      ]
    },
    {
      "cell_type": "code",
      "source": [
        "#7. Develop a program that prints the squares of numbers from 1 to 5 using a `for` loop.\n",
        "\n",
        "numbers = range(1, 6)\n",
        "for number in numbers:\n",
        "  square = number ** 2\n",
        "  print(f\"{number} squared is {square}\")\n"
      ],
      "metadata": {
        "colab": {
          "base_uri": "https://localhost:8080/"
        },
        "id": "cPOSY8eL35Co",
        "outputId": "f3645cf0-78f5-4949-892b-ca44d585bf40"
      },
      "execution_count": 16,
      "outputs": [
        {
          "output_type": "stream",
          "name": "stdout",
          "text": [
            "1 squared is 1\n",
            "2 squared is 4\n",
            "3 squared is 9\n",
            "4 squared is 16\n",
            "5 squared is 25\n"
          ]
        }
      ]
    },
    {
      "cell_type": "code",
      "source": [
        "#8. Create a program to find the length of a string without using the `len()` function.\n",
        "\n",
        "\n",
        "string=\"Welcome to PwSkills\";\n",
        "stringLength=0\n",
        "for i in string:\n",
        "      stringLength=stringLength+1\n",
        "print(\"Length of the string is: \")\n",
        "print(stringLength)"
      ],
      "metadata": {
        "colab": {
          "base_uri": "https://localhost:8080/"
        },
        "id": "R4PU2hCD45u1",
        "outputId": "97338f7c-c9fc-40ef-c153-1f3e4b28a331"
      },
      "execution_count": 17,
      "outputs": [
        {
          "output_type": "stream",
          "name": "stdout",
          "text": [
            "Length of the string is: \n",
            "19\n"
          ]
        }
      ]
    },
    {
      "cell_type": "code",
      "source": [
        "#9. Write a program that calculates the average of a list of numbers using a `for` loop.\n",
        "\n",
        "def Average(lst):\n",
        "    return sum(lst) / len(lst)\n",
        "lst = [34,56,87,55,98,70,45,32]\n",
        "average = Average(lst)\n",
        "print(\"Average of the list =\", round(average, 2))\n"
      ],
      "metadata": {
        "colab": {
          "base_uri": "https://localhost:8080/"
        },
        "id": "3VvRjc1C5mRH",
        "outputId": "b0601dda-df68-4585-daee-84c6827a4d34"
      },
      "execution_count": 21,
      "outputs": [
        {
          "output_type": "stream",
          "name": "stdout",
          "text": [
            "Average of the list = 59.62\n"
          ]
        }
      ]
    },
    {
      "cell_type": "code",
      "source": [
        "#10. Develop a program that prints the first `n` Fibonacci numbers using a `for` loop.\n",
        "def fib(n):\n",
        "    a = 0\n",
        "    b = 1\n",
        "    if n == 1:\n",
        "        print(a)\n",
        "    else:\n",
        "        print(a)\n",
        "        print(b)\n",
        "        for i in range(2,n):\n",
        "            c = a + b\n",
        "            a = b\n",
        "            b = c\n",
        "            print(c)\n",
        "fib(n)\n"
      ],
      "metadata": {
        "colab": {
          "base_uri": "https://localhost:8080/"
        },
        "id": "Tx8zI--W6XQV",
        "outputId": "5b2dd203-1b97-42cc-d162-a0edeec6fd26"
      },
      "execution_count": 28,
      "outputs": [
        {
          "output_type": "stream",
          "name": "stdout",
          "text": [
            "0\n",
            "1\n",
            "1\n",
            "2\n",
            "3\n"
          ]
        }
      ]
    },
    {
      "cell_type": "code",
      "source": [
        "##Intermediate Level"
      ],
      "metadata": {
        "id": "19YSEiza8Y_4"
      },
      "execution_count": 28,
      "outputs": []
    },
    {
      "cell_type": "code",
      "source": [
        "#11. Write a program to check if a given list contains any duplicates using a `for` loop.\n",
        "\n",
        "\n",
        "def check_duplicate(l):\n",
        "    mySet = set(l)\n",
        "    if len(mySet) == len(l):\n",
        "        print(\"List don't have duplicate element\")\n",
        "    else:\n",
        "        print(\"List having duplicate element\")\n",
        "\n",
        "\n",
        "list1 = [1, 2, 3, 4, 5, 6, 7]\n",
        "print(\"List1 is:\", list1)\n",
        "check_duplicate(list1)\n",
        "list2 = [1, 2, 1, 2, 4, 6, 7]\n",
        "print(\"List2 is:\", list2)\n",
        "check_duplicate(list2)"
      ],
      "metadata": {
        "colab": {
          "base_uri": "https://localhost:8080/"
        },
        "id": "iiG-Z6yv8d0i",
        "outputId": "4b59bcaa-ea51-45d1-db57-98965005848e"
      },
      "execution_count": 1,
      "outputs": [
        {
          "output_type": "stream",
          "name": "stdout",
          "text": [
            "List1 is: [1, 2, 3, 4, 5, 6, 7]\n",
            "List don't have duplicate element\n",
            "List2 is: [1, 2, 1, 2, 4, 6, 7]\n",
            "List having duplicate element\n"
          ]
        }
      ]
    },
    {
      "cell_type": "code",
      "source": [
        "#12. Create a program that prints the prime numbers in a given range using a `for` loop.\n",
        "\n",
        "num_from = 20\n",
        "num_to = 50\n",
        "\n",
        "prime_nums = [];\n",
        "\n",
        "for num in range(num_from, num_to + 1):\n",
        "   if num > 1:\n",
        "       for i in range(2, num):\n",
        "           if (num % i) == 0:\n",
        "               break\n",
        "       else:\n",
        "           prime_nums.append(num)\n",
        "\n",
        "print(\"List of prime numbers \", num_from, \"to\", num_to, \"are:\", prime_nums)"
      ],
      "metadata": {
        "colab": {
          "base_uri": "https://localhost:8080/"
        },
        "id": "gT8V3h34YOnk",
        "outputId": "122fc17e-5c61-4f20-eb49-2a5ca0be9ce1"
      },
      "execution_count": 3,
      "outputs": [
        {
          "output_type": "stream",
          "name": "stdout",
          "text": [
            "List of prime numbers  20 to 50 are: [23, 29, 31, 37, 41, 43, 47]\n"
          ]
        }
      ]
    },
    {
      "cell_type": "code",
      "source": [
        "#13. Develop a program that counts the number of vowels in a string using a `for` loop.\n",
        "\n",
        "def Check_Vow(string, vowels):\n",
        "    final = [each for each in string if each in vowels]\n",
        "    print(len(final))\n",
        "    print(final)\n",
        "\n",
        "string = \"Prajkta Gaikwad\"\n",
        "vowels = \"AaEeIiOoUu\"\n",
        "Check_Vow(string, vowels);"
      ],
      "metadata": {
        "colab": {
          "base_uri": "https://localhost:8080/"
        },
        "id": "B1EAJ2mqYvjE",
        "outputId": "87784167-b1af-4ced-e9f2-e49446599a42"
      },
      "execution_count": 1,
      "outputs": [
        {
          "output_type": "stream",
          "name": "stdout",
          "text": [
            "5\n",
            "['a', 'a', 'a', 'i', 'a']\n"
          ]
        }
      ]
    },
    {
      "cell_type": "code",
      "source": [
        "#14. Write a program to find the maximum element in a 2D list using a nested `for` loop.\n",
        "l = [2,4,6,[5,10,3]]\n",
        "\n",
        "\n",
        "def flatten(seq):\n",
        "  for el in seq:\n",
        "    if isinstance(el, list):\n",
        "      yield from flatten(el)\n",
        "    else:\n",
        "      yield el\n",
        "\n",
        "print(max(flatten(l)))\n"
      ],
      "metadata": {
        "colab": {
          "base_uri": "https://localhost:8080/"
        },
        "id": "YjoxsSXn08Q4",
        "outputId": "edb3d016-358e-4a0c-aff0-cb9800f1171e"
      },
      "execution_count": 6,
      "outputs": [
        {
          "output_type": "stream",
          "name": "stdout",
          "text": [
            "10\n"
          ]
        }
      ]
    },
    {
      "cell_type": "code",
      "source": [
        "#15. Create a program that removes all occurrences of a specific element from a list using a `for` loop.\n",
        "\n",
        "\n",
        "def remove_items(test_list, item):\n",
        "    res = [i for i in test_list if i != item]\n",
        "    return res\n",
        "\n",
        "\n",
        "if __name__ == \"__main__\":\n",
        "    test_list = [1, 3, 4, 6, 5, 1]\n",
        "    item = 1\n",
        "    res = remove_items(test_list, item)\n",
        "    print(\"Removing occurence eelement : \" + str(res))"
      ],
      "metadata": {
        "colab": {
          "base_uri": "https://localhost:8080/"
        },
        "id": "rgfw0LAw1QkZ",
        "outputId": "f7b84c97-feba-4a8b-a5bd-4dac76ed6e17"
      },
      "execution_count": 10,
      "outputs": [
        {
          "output_type": "stream",
          "name": "stdout",
          "text": [
            "Removing occurence eelement : [3, 4, 6, 5]\n"
          ]
        }
      ]
    },
    {
      "cell_type": "code",
      "source": [
        "#16. Develop a program that generates a multiplication table for numbers from 1 to 5 using a nested `for` loop.\n",
        "\n",
        "start = 1\n",
        "end = 5\n",
        "print(\"   \", end=\"\")\n",
        "for i in range(start, end + 1):\n",
        "  print(f\"{i:3}\", end=\"\")\n",
        "print()\n",
        "\n",
        "for i in range(start, end + 1):\n",
        "  print(f\"{i:3}\", end=\"\")\n",
        "  for j in range(start, end + 1):\n",
        "    print(f\"{i * j:3}\", end=\"\")\n",
        "  print()\n"
      ],
      "metadata": {
        "colab": {
          "base_uri": "https://localhost:8080/"
        },
        "id": "BLDhG9-w2DYW",
        "outputId": "c14591f4-1529-4093-c362-ef7284b3e081"
      },
      "execution_count": 11,
      "outputs": [
        {
          "output_type": "stream",
          "name": "stdout",
          "text": [
            "     1  2  3  4  5\n",
            "  1  1  2  3  4  5\n",
            "  2  2  4  6  8 10\n",
            "  3  3  6  9 12 15\n",
            "  4  4  8 12 16 20\n",
            "  5  5 10 15 20 25\n"
          ]
        }
      ]
    },
    {
      "cell_type": "code",
      "source": [
        "#17. Write a program that converts a list of Fahrenheit temperatures to Celsius using a `for` loop.\n",
        "\n",
        "\n",
        "print(\"Enter Temperature in Fahrenheit: \")\n",
        "fah = float(input())\n",
        "\n",
        "cel = (fah-32)/1.8\n",
        "print(\"\\nEquivalent Temperature in Celsius: \", cel)\n"
      ],
      "metadata": {
        "colab": {
          "base_uri": "https://localhost:8080/"
        },
        "id": "hbe7P5xr3auP",
        "outputId": "1f46b479-3a1d-4897-8c03-44cc494cbf29"
      },
      "execution_count": 12,
      "outputs": [
        {
          "output_type": "stream",
          "name": "stdout",
          "text": [
            "Enter Temperature in Fahrenheit: \n",
            "87\n",
            "\n",
            "Equivalent Temperature in Celsius:  30.555555555555554\n"
          ]
        }
      ]
    },
    {
      "cell_type": "code",
      "source": [
        "#18. Create a program to print the common elements from two lists using a `for` loop.\n",
        "\n",
        "def common_number(a, b):\n",
        "    a_set = set(a)\n",
        "    b_set = set(b)\n",
        "\n",
        "    if (a_set & b_set):\n",
        "        print(a_set & b_set)\n",
        "    else:\n",
        "        print(\"No common elements\")\n",
        "\n",
        "\n",
        "a = [1, 2, 3, 4, 5]\n",
        "b = [5, 6, 7, 8, 9]\n",
        "common_number(a, b)\n",
        "\n",
        "\n"
      ],
      "metadata": {
        "colab": {
          "base_uri": "https://localhost:8080/"
        },
        "id": "S96e-K9Q3-o4",
        "outputId": "c7f9367f-e147-4da6-aebb-7a88bb02291b"
      },
      "execution_count": 15,
      "outputs": [
        {
          "output_type": "stream",
          "name": "stdout",
          "text": [
            "{5}\n"
          ]
        }
      ]
    },
    {
      "cell_type": "code",
      "source": [
        "#19. Develop a program that prints the pattern of right-angled triangles using a `for` loop. Use ‘*’ to draw the pattern\n",
        "\n",
        "rows = int(input(\"Please Enter the Total Number of Rows  : \"))\n",
        "\n",
        "print(\"Right Angled Triangle Star Pattern\")\n",
        "for i in range(1, rows + 1):\n",
        "    for j in range(1, i + 1):\n",
        "        print('*', end = '  ')\n",
        "    print()\n",
        "\n"
      ],
      "metadata": {
        "colab": {
          "base_uri": "https://localhost:8080/"
        },
        "id": "F7WrmTxW4XKH",
        "outputId": "60b00e70-dc95-4d03-e595-e944df8a1538"
      },
      "execution_count": 22,
      "outputs": [
        {
          "output_type": "stream",
          "name": "stdout",
          "text": [
            "Please Enter the Total Number of Rows  : 5\n",
            "Right Angled Triangle Star Pattern\n",
            "*  \n",
            "*  *  \n",
            "*  *  *  \n",
            "*  *  *  *  \n",
            "*  *  *  *  *  \n"
          ]
        }
      ]
    },
    {
      "cell_type": "code",
      "source": [
        "#20. Write a program to find the greatest common divisor (GCD) of two numbers using a `for` loop.\n",
        "\n",
        "import math\n",
        "\n",
        "print(\"The gcd of 60 and 48 is : \", end=\"\")\n",
        "print(math.gcd(60, 48))\n",
        "\n",
        "#GCD (a,b) = [|a.b|]/[lcm(a,b)]"
      ],
      "metadata": {
        "colab": {
          "base_uri": "https://localhost:8080/"
        },
        "id": "tlB9GzGI6fN9",
        "outputId": "76845f8a-edea-4a27-a03b-feb780d28ac9"
      },
      "execution_count": 25,
      "outputs": [
        {
          "output_type": "stream",
          "name": "stdout",
          "text": [
            "The gcd of 60 and 48 is : 12\n"
          ]
        }
      ]
    },
    {
      "cell_type": "code",
      "source": [
        "#Advanced Level"
      ],
      "metadata": {
        "id": "KbtX38rv7GRS"
      },
      "execution_count": 26,
      "outputs": []
    },
    {
      "cell_type": "code",
      "source": [
        "#21. Create a program that calculates the sum of the digits of numbers in a list using a list comprehension.\n",
        "\n",
        "INDIA_state_ZIPCode = 110001\n",
        "total=0\n",
        "for i in str(INDIA_state_ZIPCode):\n",
        "    total=total+int(i)\n",
        "print(\"Sum of digits of a number :\",total)"
      ],
      "metadata": {
        "colab": {
          "base_uri": "https://localhost:8080/"
        },
        "id": "qVTVhObf7WiQ",
        "outputId": "73a28b00-7123-4648-96b6-bb8ae30060a6"
      },
      "execution_count": 29,
      "outputs": [
        {
          "output_type": "stream",
          "name": "stdout",
          "text": [
            "Sum of digits of a number : 3\n"
          ]
        }
      ]
    },
    {
      "cell_type": "code",
      "source": [
        "#22. Write a program to find the prime factors of a given number using a `for` loop and list comprehension.\n",
        "\n",
        "\n",
        "Number = int(input(\"Enter any Number: \"))\n",
        "\n",
        "for i in range(2, Number + 1):\n",
        "    if(Number % i == 0):\n",
        "        isprime = 1\n",
        "        for j in range(2, (i //2 + 1)):\n",
        "            if(i % j == 0):\n",
        "                isprime = 0\n",
        "                break\n",
        "\n",
        "        if (isprime == 1):\n",
        "            print(\" %d is a Prime Factor of a Given Number %d\" %(i, Number))"
      ],
      "metadata": {
        "colab": {
          "base_uri": "https://localhost:8080/"
        },
        "id": "Rx50feBl8G52",
        "outputId": "9baed2f4-551c-4925-85dc-3c50897206b8"
      },
      "execution_count": 30,
      "outputs": [
        {
          "output_type": "stream",
          "name": "stdout",
          "text": [
            "Enter any Number: 5\n",
            " 5 is a Prime Factor of a Given Number 5\n"
          ]
        }
      ]
    },
    {
      "cell_type": "code",
      "source": [
        "#23. Develop a program that extracts unique elements from a list and stores them in a new list using a list comprehension\n",
        "\n",
        "def unique(list1):\n",
        "    unique_list = []\n",
        "    for x in list1:\n",
        "        if x not in unique_list:\n",
        "            unique_list.append(x)\n",
        "    for x in unique_list:\n",
        "        print (x)\n",
        "\n",
        "list1 = [10, 20, 10, 30, 40, 40]\n",
        "print(\"the unique values from 1st list is\")\n",
        "unique(list1)\n",
        "\n",
        "\n",
        "list2 = [1, 2, 1, 1, 3, 4, 3, 3, 5]\n",
        "print(\"\\nthe unique values from 2nd list is\")\n",
        "unique(list2)"
      ],
      "metadata": {
        "colab": {
          "base_uri": "https://localhost:8080/"
        },
        "id": "xsCL6B4P9zxY",
        "outputId": "16dd3b0b-ca0c-42d3-f081-a6639b275749"
      },
      "execution_count": 38,
      "outputs": [
        {
          "output_type": "stream",
          "name": "stdout",
          "text": [
            "the unique values from 1st list is\n",
            "10\n",
            "20\n",
            "30\n",
            "40\n",
            "\n",
            "the unique values from 2nd list is\n",
            "1\n",
            "2\n",
            "3\n",
            "4\n",
            "5\n"
          ]
        }
      ]
    },
    {
      "cell_type": "code",
      "source": [
        "#24. Create a program that generates a list of all palindromic numbers up to a specified limit using a list comprehension.\n",
        "\n",
        "\n",
        "def palindromeNumbers(list_a):\n",
        "    c = 0\n",
        "    for i in list_a:\n",
        "\n",
        "        t = i\n",
        "        rev = 0\n",
        "        while t > 0:\n",
        "            rev = rev * 10 + t % 10\n",
        "            t = t // 10\n",
        "        if rev == i:\n",
        "            print(i)\n",
        "            c = c + 1\n",
        "\n",
        "    print()\n",
        "    print(\"Total palindrome no. is\", c)\n",
        "    print()\n",
        "\n",
        "\n",
        "\n",
        "def main():\n",
        "\n",
        "    list_a = [10, 121, 133, 155, 141, 252]\n",
        "    palindromeNumbers(list_a)\n",
        "\n",
        "    list_b = [111, 220, 784, 565, 498, 787, 363]\n",
        "    palindromeNumbers(list_b)\n",
        "\n",
        "\n",
        "if __name__ == \"__main__\":\n",
        "    main()"
      ],
      "metadata": {
        "colab": {
          "base_uri": "https://localhost:8080/"
        },
        "id": "ng-0YckO-lZJ",
        "outputId": "5250bf75-f6ab-4868-b048-bec7d72033f0"
      },
      "execution_count": 41,
      "outputs": [
        {
          "output_type": "stream",
          "name": "stdout",
          "text": [
            "121\n",
            "141\n",
            "252\n",
            "\n",
            "Total palindrome no. is 3\n",
            "\n",
            "111\n",
            "565\n",
            "787\n",
            "363\n",
            "\n",
            "Total palindrome no. is 4\n",
            "\n"
          ]
        }
      ]
    },
    {
      "cell_type": "code",
      "source": [
        "#25. Write a program to flatten a nested list using list comprehension.\n",
        "def flat(lis):\n",
        "    flatList = []\n",
        "\n",
        "    for element in lis:\n",
        "        if type(element) is list:\n",
        "            for item in element:\n",
        "                flatList.append(item)\n",
        "        else:\n",
        "            flatList.append(element)\n",
        "    return flatList\n",
        "\n",
        "\n",
        "lis = [[11, 22, 33, 44], [55, 66, 77], [88, 99, 100]]\n",
        "print('Flat List', flat(lis))\n",
        "print(\"Output List using list comprehensions:\",flat(lis))\n"
      ],
      "metadata": {
        "colab": {
          "base_uri": "https://localhost:8080/"
        },
        "id": "f6B1o2m4-8LT",
        "outputId": "e44589ae-3e7a-4058-fc71-5916ab14a921"
      },
      "execution_count": 37,
      "outputs": [
        {
          "output_type": "stream",
          "name": "stdout",
          "text": [
            "Flat List [11, 22, 33, 44, 55, 66, 77, 88, 99, 100]\n",
            "Output List using list comprehensions: [11, 22, 33, 44, 55, 66, 77, 88, 99, 100]\n"
          ]
        }
      ]
    },
    {
      "cell_type": "code",
      "source": [
        "#26. Develop a program that computes the sum of even and odd numbers in a list separately using list comprehension\n",
        "\n",
        "test_list = [345, 893, 1948, 34, 2346]\n",
        "\n",
        "print(\"The original list is : \" + str(test_list))\n",
        "\n",
        "odd_sum = 0\n",
        "even_sum = 0\n",
        "\n",
        "for sub in test_list:\n",
        "    for ele in str(sub):\n",
        "        if int(ele) % 2 == 0:\n",
        "            even_sum += int(ele)\n",
        "        else:\n",
        "            odd_sum += int(ele)\n",
        "\n",
        "print(\"Odd digit sum : \" + str(odd_sum))\n",
        "print(\"Even digit sum : \" + str(even_sum))"
      ],
      "metadata": {
        "colab": {
          "base_uri": "https://localhost:8080/"
        },
        "id": "5VzKkwRWCEM6",
        "outputId": "3ea9c7a5-25b7-46a7-e085-d07a3c8fb952"
      },
      "execution_count": 42,
      "outputs": [
        {
          "output_type": "stream",
          "name": "stdout",
          "text": [
            "The original list is : [345, 893, 1948, 34, 2346]\n",
            "Odd digit sum : 36\n",
            "Even digit sum : 40\n"
          ]
        }
      ]
    },
    {
      "cell_type": "code",
      "source": [
        "#27. Create a program that generates a list of squares of odd numbers between 1 and 10 using list comprehension.\n",
        "\n",
        "data=[1,2,3,4,5,6,7,8,9,10]\n",
        "result = [i*i for i in data if i%2!=0]\n",
        "print(result)"
      ],
      "metadata": {
        "colab": {
          "base_uri": "https://localhost:8080/"
        },
        "id": "hymf0NKBDcEu",
        "outputId": "136a6cde-1d68-4a06-ddf2-bef83b4c875e"
      },
      "execution_count": 48,
      "outputs": [
        {
          "output_type": "stream",
          "name": "stdout",
          "text": [
            "[1, 9, 25, 49, 81]\n"
          ]
        }
      ]
    },
    {
      "cell_type": "code",
      "source": [
        "#28. Write a program that combines two lists into a dictionary using list comprehension.\n",
        "\n",
        "test_keys = [\"Rajendra\", \"Prajkta\", \"Yash\"]\n",
        "test_values = [3, 5, 7 ]\n",
        "\n",
        "print(\"Resultant dictionary is : \" + str(res))\n",
        "\n"
      ],
      "metadata": {
        "colab": {
          "base_uri": "https://localhost:8080/"
        },
        "id": "ChYl5Q7xEE1F",
        "outputId": "56e5a660-7f5c-4418-b555-2f84f5af7ebe"
      },
      "execution_count": 51,
      "outputs": [
        {
          "output_type": "stream",
          "name": "stdout",
          "text": [
            "Resultant dictionary is : {'Rajendra': 3, 'Prajkta': 5, 'Yash': 7}\n"
          ]
        }
      ]
    },
    {
      "cell_type": "code",
      "source": [
        "#29. Develop a program that extracts the vowels from a string and stores them in a list using list comprehension.\n",
        "\n",
        "def Check_Vow(string, vowels):\n",
        "\n",
        "    string = string.casefold()\n",
        "    count = {}.fromkeys(vowels, 0)\n",
        "\n",
        "    for character in string:\n",
        "        if character in count:\n",
        "            count[character] += 1\n",
        "    return count\n",
        "\n",
        "vowels = 'aeiou'\n",
        "string = \"Omkar Yadav\"\n",
        "print (Check_Vow(string, vowels))\n"
      ],
      "metadata": {
        "colab": {
          "base_uri": "https://localhost:8080/"
        },
        "id": "5yA1rYuSGMye",
        "outputId": "53b2beca-3346-4bc8-f34b-aea50784a324"
      },
      "execution_count": 52,
      "outputs": [
        {
          "output_type": "stream",
          "name": "stdout",
          "text": [
            "{'a': 3, 'e': 0, 'i': 0, 'o': 1, 'u': 0}\n"
          ]
        }
      ]
    },
    {
      "cell_type": "code",
      "source": [
        "#30. Create a program that removes all non-numeric characters from a list of strings using list comprehension.\n",
        "\n",
        "import re\n",
        "\n",
        "my_str = 'bo_1bby_2_ha_3_dz.com'\n",
        "\n",
        "result = re.sub(r'[^0-9]', '', my_str)\n",
        "\n",
        "print(result)\n",
        "\n"
      ],
      "metadata": {
        "colab": {
          "base_uri": "https://localhost:8080/"
        },
        "id": "D5IBzVRqGy0D",
        "outputId": "c0d3e813-550a-4552-e570-2aaf10f3d7dc"
      },
      "execution_count": 53,
      "outputs": [
        {
          "output_type": "stream",
          "name": "stdout",
          "text": [
            "123\n"
          ]
        }
      ]
    },
    {
      "cell_type": "code",
      "source": [
        "# Challenge Level"
      ],
      "metadata": {
        "id": "FDHOEXzZHQjL"
      },
      "execution_count": 54,
      "outputs": []
    },
    {
      "cell_type": "code",
      "source": [
        "#31. Write a program to generate a list of prime numbers using the Sieve of Eratosthenes algorithm and list comprehension.\n",
        "\n",
        "\n",
        "def SieveOfEratosthenes(num):\n",
        "    prime = [True for i in range(num+1)]\n",
        "    p = 2\n",
        "    while (p * p <= num):\n",
        "\n",
        "        if (prime[p] == True):\n",
        "            for i in range(p * p, num+1, p):\n",
        "                prime[i] = False\n",
        "        p += 1\n",
        "    for p in range(2, num+1):\n",
        "        if prime[p]:\n",
        "            print(p)\n",
        "\n",
        "if __name__ == '__main__':\n",
        "    num = 30\n",
        "\n",
        "    print(\"than or equal to\", num)\n",
        "    SieveOfEratosthenes(num)"
      ],
      "metadata": {
        "colab": {
          "base_uri": "https://localhost:8080/"
        },
        "id": "I2PmDtyzHiQC",
        "outputId": "f67ee170-62b8-4d7f-aa85-d98a112a25ad"
      },
      "execution_count": 56,
      "outputs": [
        {
          "output_type": "stream",
          "name": "stdout",
          "text": [
            "than or equal to 30\n",
            "2\n",
            "3\n",
            "5\n",
            "7\n",
            "11\n",
            "13\n",
            "17\n",
            "19\n",
            "23\n",
            "29\n"
          ]
        }
      ]
    },
    {
      "cell_type": "code",
      "source": [
        "#32. Create a program that generates a list of all Pythagorean triplets up to a specified limit using list comprehension.\n",
        "\n",
        "limit=int(input(\"Enter upper limit:\"))\n",
        "c=0\n",
        "m=2\n",
        "while(c<limit):\n",
        "    for n in range(1,m+1):\n",
        "        a=m*m-n*n\n",
        "        b=2*m*n\n",
        "        c=m*m+n*n\n",
        "        if(c>limit):\n",
        "            break\n",
        "        if(a==0 or b==0 or c==0):\n",
        "            break\n",
        "        print(a,b,c)\n",
        "    m=m+1"
      ],
      "metadata": {
        "colab": {
          "base_uri": "https://localhost:8080/"
        },
        "id": "8J2z5BIhIRRm",
        "outputId": "4f803651-7e80-409d-dbf1-8342325149b2"
      },
      "execution_count": 57,
      "outputs": [
        {
          "output_type": "stream",
          "name": "stdout",
          "text": [
            "Enter upper limit:8\n",
            "3 4 5\n"
          ]
        }
      ]
    },
    {
      "cell_type": "code",
      "source": [
        "#33. Develop a program that generates a list of all possible combinations of two lists using list comprehension.\n",
        "\n",
        "from itertools import combinations\n",
        "\n",
        "sample_list = ['a', 'b', 'c']\n",
        "list_combinations = list()\n",
        "\n",
        "for n in range(len(sample_list) + 1):\n",
        "    list_combinations += list(combinations(sample_list, n))\n",
        "\n",
        "print(list_combinations)"
      ],
      "metadata": {
        "colab": {
          "base_uri": "https://localhost:8080/"
        },
        "id": "1wjmQ8BiJR35",
        "outputId": "0b5c0e3f-c328-4700-9b76-84cde3481417"
      },
      "execution_count": 59,
      "outputs": [
        {
          "output_type": "stream",
          "name": "stdout",
          "text": [
            "[(), ('a',), ('b',), ('c',), ('a', 'b'), ('a', 'c'), ('b', 'c'), ('a', 'b', 'c')]\n"
          ]
        }
      ]
    },
    {
      "cell_type": "code",
      "source": [
        "#34. Write a program that calculates the mean, median, and mode of a list of numbers using list comprehension.\n",
        "\n",
        "\n",
        "from statistics import mean,median,mode\n",
        "p = [15, 18, 2, 36, 12, 78, 5, 6, 9,18]\n",
        "print(\"Mean\",mean(p))\n",
        "print(\"Median\",median(p))\n",
        "print(\"Mode\",mode(p))"
      ],
      "metadata": {
        "colab": {
          "base_uri": "https://localhost:8080/"
        },
        "id": "AasnSnzaKDlK",
        "outputId": "ee1ecc93-ced2-4866-b448-da28efc33bdc"
      },
      "execution_count": 62,
      "outputs": [
        {
          "output_type": "stream",
          "name": "stdout",
          "text": [
            "Mean 19.9\n",
            "Median 13.5\n",
            "Mode 18\n"
          ]
        }
      ]
    },
    {
      "cell_type": "code",
      "source": [
        "#35. Create a program that generates Pascal's triangle up to a specified number of rows using list comprehension.\n",
        "\n",
        "\n",
        "\n",
        "def solve(n):\n",
        "   for i in range(n+1):\n",
        "      for j in range(n-i):\n",
        "         print(' ', end='')\n",
        "\n",
        "      C = 1\n",
        "      for j in range(1, i+1):\n",
        "         print(C, ' ', sep='', end='')\n",
        "         C = C * (i - j) // j\n",
        "      print()\n",
        "\n",
        "n = 5\n",
        "solve(n)"
      ],
      "metadata": {
        "colab": {
          "base_uri": "https://localhost:8080/"
        },
        "id": "Wps9R5SrMEt9",
        "outputId": "6949622c-4830-4c3e-c8da-c25688d1a692"
      },
      "execution_count": 63,
      "outputs": [
        {
          "output_type": "stream",
          "name": "stdout",
          "text": [
            "     \n",
            "    1 \n",
            "   1 1 \n",
            "  1 2 1 \n",
            " 1 3 3 1 \n",
            "1 4 6 4 1 \n"
          ]
        }
      ]
    },
    {
      "cell_type": "code",
      "source": [
        "#36. Develop a program that calculates the sum of the digits of a factorial of numbers from 1 to 5 using list comprehension.\n",
        "\n",
        "\n",
        "\n",
        "num = 7\n",
        "factorial = 1\n",
        "\n",
        "\n",
        "if num < 0:\n",
        "   print(\"Factorial does not exist\")\n",
        "elif num == 0:\n",
        "   print(\"The factorial of 0 is 1\")\n",
        "else:\n",
        "   for i in range(1,num + 1):\n",
        "       factorial = factorial*i\n",
        "   print(\"The factorial of\",num,\"is\",factorial)\n",
        "\n"
      ],
      "metadata": {
        "colab": {
          "base_uri": "https://localhost:8080/"
        },
        "id": "d9Z9JbxsOFkL",
        "outputId": "7f35f046-ee55-45fb-f471-4d4611398f42"
      },
      "execution_count": 66,
      "outputs": [
        {
          "output_type": "stream",
          "name": "stdout",
          "text": [
            "The factorial of 7 is 5040\n"
          ]
        }
      ]
    },
    {
      "cell_type": "code",
      "source": [
        "#37. Write a program that finds the longest word in a sentence using list comprehension.\n",
        "\n",
        "def largestWord(s):\n",
        "\n",
        "    s = sorted(s, key = len)\n",
        "    print(s[-1])\n",
        "\n",
        "if __name__ == \"__main__\":\n",
        "\n",
        "    s = \"be confident and be yourself\"\n",
        "    l = list(s.split(\" \"))\n",
        "    largestWord(l)\n"
      ],
      "metadata": {
        "colab": {
          "base_uri": "https://localhost:8080/"
        },
        "id": "d99U9XUGO2nb",
        "outputId": "cfcdffb3-2977-46f9-df92-59c781fc4d9f"
      },
      "execution_count": 74,
      "outputs": [
        {
          "output_type": "stream",
          "name": "stdout",
          "text": [
            "confident\n"
          ]
        }
      ]
    },
    {
      "cell_type": "code",
      "source": [
        "#38. Create a program that filters a list of strings to include only those with more than three vowels using list comprehension.\n",
        "import re\n",
        "\n",
        "def Filter(string, substr):\n",
        "    return [str for str in string\n",
        "    if re.match(r'[^\\d]+|^', str).group(0) in substr]\n",
        "\n",
        "string = ['city1', 'class1', 'room2', 'city2']\n",
        "substr = ['class', 'city']\n",
        "print(Filter(string, substr))\n"
      ],
      "metadata": {
        "colab": {
          "base_uri": "https://localhost:8080/"
        },
        "id": "M80shp19Qizt",
        "outputId": "e5beac93-3ee8-4e9c-f038-99dc1c54ff80"
      },
      "execution_count": 75,
      "outputs": [
        {
          "output_type": "stream",
          "name": "stdout",
          "text": [
            "['city1', 'class1', 'city2']\n"
          ]
        }
      ]
    },
    {
      "cell_type": "code",
      "source": [
        "#39. Develop a program that calculates the sum of the digits of numbers from 1 to 1000 using list comprehension.\n",
        "test_list = [1,3,15,20,100]\n",
        "\n",
        "# printing original list\n",
        "print(\"The original list is : \" + str(test_list))\n",
        "\n",
        "# Sum of number digits in List\n",
        "# using loop + str()\n",
        "res = []\n",
        "for ele in test_list:\n",
        "    sum = 0\n",
        "    for digit in str(ele):\n",
        "        sum += int(digit)\n",
        "    res.append(sum)\n",
        "\n",
        "# printing result\n",
        "print (\"List Integer Summation : \" + str(res))\n"
      ],
      "metadata": {
        "colab": {
          "base_uri": "https://localhost:8080/"
        },
        "id": "jbl0v2wbQjgs",
        "outputId": "d176e247-6b9c-4d60-f31a-03b84998ffda"
      },
      "execution_count": 82,
      "outputs": [
        {
          "output_type": "stream",
          "name": "stdout",
          "text": [
            "The original list is : [1, 3, 15, 20, 100]\n",
            "List Integer Summation : [1, 3, 6, 2, 1]\n"
          ]
        }
      ]
    },
    {
      "cell_type": "code",
      "source": [
        "#40. Write a program that generates a list of prime palindromic numbers using list comprehension.\n",
        "\n",
        "\n",
        "\n",
        "def palindromeNumbers(list_a):\n",
        "\n",
        "    c = 0\n",
        "\n",
        "    for i in list_a:\n",
        "\n",
        "        t = i\n",
        "        rev = 0\n",
        "        while t > 0:\n",
        "            rev = rev * 10 + t % 10\n",
        "            t = t // 10\n",
        "\n",
        "        if rev == i:\n",
        "            print(i)\n",
        "            c = c + 1\n",
        "\n",
        "    print()\n",
        "    print(\"Total palindrome nos. are\", c)\n",
        "    print()\n",
        "\n",
        "def main():\n",
        "\n",
        "    list_a = [10, 121, 133, 155, 141, 252]\n",
        "    palindromeNumbers(list_a)\n",
        "\n",
        "    list_b = [111, 220, 784, 565, 498, 787, 363]\n",
        "    palindromeNumbers(list_b)\n",
        "\n",
        "\n",
        "if __name__ == \"__main__\":\n",
        "    main()\n"
      ],
      "metadata": {
        "colab": {
          "base_uri": "https://localhost:8080/"
        },
        "id": "REIImns4U67D",
        "outputId": "934e9078-9e78-4b7f-ebad-2fa4c95e1813"
      },
      "execution_count": 81,
      "outputs": [
        {
          "output_type": "stream",
          "name": "stdout",
          "text": [
            "121\n",
            "141\n",
            "252\n",
            "\n",
            "Total palindrome nos. are 3\n",
            "\n",
            "111\n",
            "565\n",
            "787\n",
            "363\n",
            "\n",
            "Total palindrome nos. are 4\n",
            "\n"
          ]
        }
      ]
    },
    {
      "cell_type": "code",
      "source": [],
      "metadata": {
        "id": "ypsFqYKyVOpp"
      },
      "execution_count": null,
      "outputs": []
    }
  ]
}